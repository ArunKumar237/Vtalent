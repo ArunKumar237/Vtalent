{
  "nbformat": 4,
  "nbformat_minor": 0,
  "metadata": {
    "colab": {
      "provenance": []
    },
    "kernelspec": {
      "name": "python3",
      "display_name": "Python 3"
    },
    "language_info": {
      "name": "python"
    }
  },
  "cells": [
    {
      "cell_type": "markdown",
      "source": [
        "#### List"
      ],
      "metadata": {
        "id": "_fhvNkfMUzp5"
      }
    },
    {
      "cell_type": "markdown",
      "source": [
        "##### 1. Python program to interchange first and last elements in a list."
      ],
      "metadata": {
        "id": "Hf0k8IdBU_3c"
      }
    },
    {
      "cell_type": "code",
      "source": [
        "ele_list = [1,2,3,4,5,6]\n",
        "print(f\"before: {ele_list}\")\n",
        "ele_list[0], ele_list[-1] = ele_list[-1], ele_list[0]\n",
        "print(f\"after: {ele_list}\")"
      ],
      "metadata": {
        "colab": {
          "base_uri": "https://localhost:8080/"
        },
        "id": "OUiXm_vrX1CT",
        "outputId": "f0eb3a7a-42c5-43be-ccd2-b2678d5e0c4d"
      },
      "execution_count": 178,
      "outputs": [
        {
          "output_type": "stream",
          "name": "stdout",
          "text": [
            "before: [1, 2, 3, 4, 5, 6]\n",
            "after: [6, 2, 3, 4, 5, 1]\n"
          ]
        }
      ]
    },
    {
      "cell_type": "markdown",
      "source": [
        "##### 2. Python program to swap two elements in a list."
      ],
      "metadata": {
        "id": "NQR222wKVIs9"
      }
    },
    {
      "cell_type": "code",
      "source": [
        "i1, i2 = map(int, input(f'input the elements you want to swap from the list {ele_list}: ').split())\n",
        "print(f\"before: {ele_list}\")\n",
        "ele1 , ele2 = ele_list.index(i1), ele_list.index(i2)\n",
        "ele_list[ele1], ele_list[ele2] = ele_list[ele2], ele_list[ele1]\n",
        "print(f\"after: {ele_list}\")"
      ],
      "metadata": {
        "colab": {
          "base_uri": "https://localhost:8080/"
        },
        "id": "nx1SDJ2gX26Z",
        "outputId": "2006c24b-a3d6-46d5-87a6-84599e86b6aa"
      },
      "execution_count": 179,
      "outputs": [
        {
          "output_type": "stream",
          "name": "stdout",
          "text": [
            "input the elements you want to swap from the list [6, 2, 3, 4, 5, 1]: 1 3\n",
            "before: [6, 2, 3, 4, 5, 1]\n",
            "after: [6, 2, 1, 4, 5, 3]\n"
          ]
        }
      ]
    },
    {
      "cell_type": "markdown",
      "source": [
        "##### 3.Python program to find ways to get the length of list."
      ],
      "metadata": {
        "id": "aNXMw-mMVRv6"
      }
    },
    {
      "cell_type": "code",
      "source": [
        "print(f\"list: {ele_list}\")\n",
        "# way 1\n",
        "print(f\"length of list: {len(ele_list)}\")\n",
        "\n",
        "# way 2\n",
        "count = 0\n",
        "for i in ele_list:\n",
        "  count+=1\n",
        "print(f\"length of list: {count}\")\n",
        "\n",
        "# way 3\n",
        "ele_list.append(\"`\") # by adding uncommon or unrelated or special character\n",
        "print(f\"length of list: {ele_list.index('`')}\")"
      ],
      "metadata": {
        "colab": {
          "base_uri": "https://localhost:8080/"
        },
        "id": "-8hVaqLFX3rm",
        "outputId": "8c64db81-e6c1-45ce-c6b8-5f36e78585b2"
      },
      "execution_count": 180,
      "outputs": [
        {
          "output_type": "stream",
          "name": "stdout",
          "text": [
            "list: [6, 2, 1, 4, 5, 3]\n",
            "length of list: 6\n",
            "length of list: 6\n",
            "length of list: 6\n"
          ]
        }
      ]
    },
    {
      "cell_type": "markdown",
      "source": [
        "##### 4. Python program to check if element exists in list in different ways."
      ],
      "metadata": {
        "id": "5aQSSaKOVXY-"
      }
    },
    {
      "cell_type": "code",
      "source": [
        "print(f\"list: {ele_list}\")\n",
        "search_element = int(input('element you want to check: '))\n",
        "\n",
        "# way 1\n",
        "if search_element in ele_list:\n",
        "  print(\"searched element is present in list\")\n",
        "else:\n",
        "  print(\"searched element is not present in list\")\n",
        "\n",
        "print('')\n",
        "# way 2\n",
        "if ele_list.index(search_element) > 0:\n",
        "  print(\"searched element is present in list\")\n",
        "else:\n",
        "  print(\"searched element is not present in list\")\n",
        "\n",
        "\n",
        "\n",
        "print('')\n",
        "# way 3\n",
        "for i in ele_list:\n",
        "  if i == search_element:\n",
        "    print(\"searched element is present in list\")\n",
        "    break\n",
        "\n"
      ],
      "metadata": {
        "colab": {
          "base_uri": "https://localhost:8080/"
        },
        "id": "weoIu-gYX4JS",
        "outputId": "68fa2ceb-54a3-4cef-e885-d58bbc92711e"
      },
      "execution_count": 181,
      "outputs": [
        {
          "output_type": "stream",
          "name": "stdout",
          "text": [
            "list: [6, 2, 1, 4, 5, 3, '`']\n",
            "element you want to check: 1\n",
            "searched element is present in list\n",
            "\n",
            "searched element is present in list\n",
            "\n",
            "searched element is present in list\n"
          ]
        }
      ]
    },
    {
      "cell_type": "markdown",
      "source": [
        "##### 5. Different ways to clear a list in Python."
      ],
      "metadata": {
        "id": "B412ErPsVeiP"
      }
    },
    {
      "cell_type": "code",
      "source": [
        "ele_list = [1,2,3,4,5,6]\n",
        "print(f\"before: {ele_list}\")\n",
        "# way 1\n",
        "ele_list.clear()\n",
        "print(f\"after: {ele_list}\")\n",
        "\n",
        "print('')\n",
        "# way 2\n",
        "ele_list = [1,2,3,4,5,6]\n",
        "print(f\"before: {ele_list}\")\n",
        "for i in range(len(ele_list)):\n",
        "  ele_list.pop()\n",
        "print(f\"after: {ele_list}\")\n",
        "\n",
        "print('')\n",
        "# way 3\n",
        "ele_list = [1,2,3,4,5,6]\n",
        "print(f\"before: {ele_list}\")\n",
        "ele_list*=0\n",
        "print(f\"after: {ele_list}\")"
      ],
      "metadata": {
        "colab": {
          "base_uri": "https://localhost:8080/"
        },
        "id": "JDHgiJ7nX4ss",
        "outputId": "1ce85a92-6054-4ecf-ad8e-bbe4fa1b671a"
      },
      "execution_count": 182,
      "outputs": [
        {
          "output_type": "stream",
          "name": "stdout",
          "text": [
            "before: [1, 2, 3, 4, 5, 6]\n",
            "after: []\n",
            "\n",
            "before: [1, 2, 3, 4, 5, 6]\n",
            "after: []\n",
            "\n",
            "before: [1, 2, 3, 4, 5, 6]\n",
            "after: []\n"
          ]
        }
      ]
    },
    {
      "cell_type": "markdown",
      "source": [
        "##### 6. Python program to Reversing a list"
      ],
      "metadata": {
        "id": "p1U5RhG-VjxG"
      }
    },
    {
      "cell_type": "code",
      "source": [
        "ele_list = [1,2,3,4,5,6]\n",
        "print(f\"before: {ele_list}\")\n",
        "print(f\"after: {ele_list[::-1]}\")"
      ],
      "metadata": {
        "colab": {
          "base_uri": "https://localhost:8080/"
        },
        "id": "3B32YHG8X5Ij",
        "outputId": "850e66c8-044b-4c5b-99c3-aa4b70acd7a8"
      },
      "execution_count": 183,
      "outputs": [
        {
          "output_type": "stream",
          "name": "stdout",
          "text": [
            "before: [1, 2, 3, 4, 5, 6]\n",
            "after: [6, 5, 4, 3, 2, 1]\n"
          ]
        }
      ]
    },
    {
      "cell_type": "markdown",
      "source": [
        "##### 7. Python program to cloning or copying a list without using inbuilt function."
      ],
      "metadata": {
        "id": "vZ_cZbQPVo2_"
      }
    },
    {
      "cell_type": "code",
      "source": [
        "copy_list = []\n",
        "print(f\"original list: {ele_list}\")\n",
        "[copy_list.append(i) for i in ele_list]\n",
        "print(f\"copied list: {copy_list}\")"
      ],
      "metadata": {
        "colab": {
          "base_uri": "https://localhost:8080/"
        },
        "id": "0-VKpMSTX5mr",
        "outputId": "64db79f2-7ae5-49ff-e0eb-f551c3661bcf"
      },
      "execution_count": 184,
      "outputs": [
        {
          "output_type": "stream",
          "name": "stdout",
          "text": [
            "original list: [1, 2, 3, 4, 5, 6]\n",
            "copied list: [1, 2, 3, 4, 5, 6]\n"
          ]
        }
      ]
    },
    {
      "cell_type": "markdown",
      "source": [
        "##### 8. Python program to count occurrences of an element in a list."
      ],
      "metadata": {
        "id": "5zzM9MxrVv-z"
      }
    },
    {
      "cell_type": "code",
      "source": [
        "ele_list2 = [1,2,3,2,4,1,5,3]\n",
        "i = int(input(\"enter search element: \"))\n",
        "print(f\"list: {ele_list2}\")\n",
        "print(f\"count occurrences of an element {i} in list: {ele_list2.count(1)}\")"
      ],
      "metadata": {
        "colab": {
          "base_uri": "https://localhost:8080/"
        },
        "id": "Twa6pdQ-X6Kc",
        "outputId": "0707887d-85c1-490b-9a41-4e329ac30666"
      },
      "execution_count": 185,
      "outputs": [
        {
          "output_type": "stream",
          "name": "stdout",
          "text": [
            "enter search element: 2\n",
            "list: [1, 2, 3, 2, 4, 1, 5, 3]\n",
            "count occurrences of an element 2 in list: 2\n"
          ]
        }
      ]
    },
    {
      "cell_type": "markdown",
      "source": [
        "##### 9. Python program to find sum and average of list in python."
      ],
      "metadata": {
        "id": "ShaJaHkRV3a3"
      }
    },
    {
      "cell_type": "code",
      "source": [
        "print(f\"list: {ele_list}\")\n",
        "s = sum(ele_list)\n",
        "avg = s/len(ele_list)\n",
        "print(f\"sum of list elements: {s}\\naverage of list elements: {avg}\")"
      ],
      "metadata": {
        "colab": {
          "base_uri": "https://localhost:8080/"
        },
        "id": "q6OghC7QX6oP",
        "outputId": "ec1df102-80f1-4be1-e920-55052bfdae02"
      },
      "execution_count": 186,
      "outputs": [
        {
          "output_type": "stream",
          "name": "stdout",
          "text": [
            "list: [1, 2, 3, 4, 5, 6]\n",
            "sum of list elements: 21\n",
            "average of list elements: 3.5\n"
          ]
        }
      ]
    },
    {
      "cell_type": "markdown",
      "source": [
        "##### 10. Python program to sum of number digits in list."
      ],
      "metadata": {
        "id": "JihDaQFbV9ss"
      }
    },
    {
      "cell_type": "code",
      "source": [
        "ele_list3 = [1, 12, 123, 1234, 12345]\n",
        "l = list(map(str,ele_list3))\n",
        "fin_list = []\n",
        "for i in l:\n",
        "  s = 0\n",
        "  for j in i:\n",
        "    s+=int(j)\n",
        "  fin_list.append(s)\n",
        "print(f\"list: {ele_list3}\")\n",
        "print(f\"sum of number digits in list: {fin_list}\")"
      ],
      "metadata": {
        "colab": {
          "base_uri": "https://localhost:8080/"
        },
        "id": "GYRFm9XgX7RO",
        "outputId": "eda1c457-742b-468c-b53f-8076bbac7fc5"
      },
      "execution_count": 187,
      "outputs": [
        {
          "output_type": "stream",
          "name": "stdout",
          "text": [
            "list: [1, 12, 123, 1234, 12345]\n",
            "sum of number digits in list: [1, 3, 6, 10, 15]\n"
          ]
        }
      ]
    },
    {
      "cell_type": "markdown",
      "source": [
        "##### 11. Python program to multiply all numbers in the list."
      ],
      "metadata": {
        "id": "d54oKB2UWG4u"
      }
    },
    {
      "cell_type": "code",
      "source": [
        "import math\n",
        "print(f\"list: {ele_list}\")\n",
        "print(f\"after multiplying all numbers in the list: {math.prod(ele_list)}\")"
      ],
      "metadata": {
        "colab": {
          "base_uri": "https://localhost:8080/"
        },
        "id": "RxQGM-PtX7zE",
        "outputId": "da1b8721-2bb3-482c-ab26-8d422fc3ab4e"
      },
      "execution_count": 188,
      "outputs": [
        {
          "output_type": "stream",
          "name": "stdout",
          "text": [
            "list: [1, 2, 3, 4, 5, 6]\n",
            "after multiplying all numbers in the list: 720\n"
          ]
        }
      ]
    },
    {
      "cell_type": "markdown",
      "source": [
        "##### 12. Python program to find smallest number in a list."
      ],
      "metadata": {
        "id": "QDqHO_XwWPa-"
      }
    },
    {
      "cell_type": "code",
      "source": [
        "print(f\"list: {ele_list}\")\n",
        "print(f\"smallest number in list: {min(ele_list)}\")"
      ],
      "metadata": {
        "colab": {
          "base_uri": "https://localhost:8080/"
        },
        "id": "ibBm6P6zX8PX",
        "outputId": "d2055d96-e372-4ef5-e13d-39ef6cd140a5"
      },
      "execution_count": 189,
      "outputs": [
        {
          "output_type": "stream",
          "name": "stdout",
          "text": [
            "list: [1, 2, 3, 4, 5, 6]\n",
            "smallest number in list: 1\n"
          ]
        }
      ]
    },
    {
      "cell_type": "markdown",
      "source": [
        "##### 13. Python program to find largest number in a list."
      ],
      "metadata": {
        "id": "n94muSeSWURD"
      }
    },
    {
      "cell_type": "code",
      "source": [
        "print(f\"list: {ele_list}\")\n",
        "print(f\"largest number in list: {max(ele_list)}\")"
      ],
      "metadata": {
        "colab": {
          "base_uri": "https://localhost:8080/"
        },
        "id": "mWkC3rC8X8uu",
        "outputId": "1598d308-79c7-4f13-d3ed-506f2b82015a"
      },
      "execution_count": 190,
      "outputs": [
        {
          "output_type": "stream",
          "name": "stdout",
          "text": [
            "list: [1, 2, 3, 4, 5, 6]\n",
            "largest number in list: 6\n"
          ]
        }
      ]
    },
    {
      "cell_type": "markdown",
      "source": [
        "##### 14. Python program to find second largest number in a list."
      ],
      "metadata": {
        "id": "T_dfYIaiWYFK"
      }
    },
    {
      "cell_type": "code",
      "source": [
        "ele_list.sort(reverse=True)\n",
        "print(f\"list: {ele_list}\")\n",
        "for i in ele_list:\n",
        "  if i < ele_list[0]:\n",
        "    print(f\"2nd largest elment in list is {i}\")\n",
        "    break"
      ],
      "metadata": {
        "colab": {
          "base_uri": "https://localhost:8080/"
        },
        "id": "lh3ORPBPX9Ng",
        "outputId": "56f85c00-e980-49be-b408-d03bbe55b00b"
      },
      "execution_count": 191,
      "outputs": [
        {
          "output_type": "stream",
          "name": "stdout",
          "text": [
            "list: [6, 5, 4, 3, 2, 1]\n",
            "2nd largest elment in list is 5\n"
          ]
        }
      ]
    },
    {
      "cell_type": "markdown",
      "source": [
        "##### 15. Python program to print even numbers in a list."
      ],
      "metadata": {
        "id": "NPeAStAAWc1K"
      }
    },
    {
      "cell_type": "code",
      "source": [
        "print(f\"list: {ele_list}\")\n",
        "print(f\"even numbers in list: [\",end=' ')\n",
        "for i in ele_list:\n",
        "  if i%2 == 0:\n",
        "    print(i,end=', ')\n",
        "print(\"]\")"
      ],
      "metadata": {
        "colab": {
          "base_uri": "https://localhost:8080/"
        },
        "id": "DvzusxJBX9rq",
        "outputId": "6e67eed9-64b9-4029-d0ba-b870e27c035c"
      },
      "execution_count": 192,
      "outputs": [
        {
          "output_type": "stream",
          "name": "stdout",
          "text": [
            "list: [6, 5, 4, 3, 2, 1]\n",
            "even numbers in list: [ 6, 4, 2, ]\n"
          ]
        }
      ]
    },
    {
      "cell_type": "markdown",
      "source": [
        "##### 16. Python program to print odd numbers in a list."
      ],
      "metadata": {
        "id": "8F7MANwdWiSE"
      }
    },
    {
      "cell_type": "code",
      "source": [
        "print(f\"list: {ele_list}\")\n",
        "print(f\"even numbers in list: [\",end=' ')\n",
        "for i in ele_list:\n",
        "  if i%2 != 0:\n",
        "    print(i,end=', ')\n",
        "print(\"]\")"
      ],
      "metadata": {
        "colab": {
          "base_uri": "https://localhost:8080/"
        },
        "id": "UPWbBe79X-KK",
        "outputId": "82d00173-db83-4631-a018-e69e12a8c047"
      },
      "execution_count": 193,
      "outputs": [
        {
          "output_type": "stream",
          "name": "stdout",
          "text": [
            "list: [6, 5, 4, 3, 2, 1]\n",
            "even numbers in list: [ 5, 3, 1, ]\n"
          ]
        }
      ]
    },
    {
      "cell_type": "markdown",
      "source": [
        "##### 17. Python program to print all  even numbers in a range."
      ],
      "metadata": {
        "id": "SKhnk3luWnWK"
      }
    },
    {
      "cell_type": "code",
      "source": [
        "print(f\"list: {ele_list}\")\n",
        "print(f\"even numbers in range of index 1 to 5: [\",end=' ')\n",
        "for i in range(1,5):\n",
        "  if ele_list[i]%2 == 0:\n",
        "    print(ele_list[i],end=', ')\n",
        "print(\"]\")"
      ],
      "metadata": {
        "colab": {
          "base_uri": "https://localhost:8080/"
        },
        "id": "r60EwEM_X-oA",
        "outputId": "8386eeb5-be05-494f-8c8f-9f2a620b45ae"
      },
      "execution_count": 194,
      "outputs": [
        {
          "output_type": "stream",
          "name": "stdout",
          "text": [
            "list: [6, 5, 4, 3, 2, 1]\n",
            "even numbers in range of index 1 to 5: [ 4, 2, ]\n"
          ]
        }
      ]
    },
    {
      "cell_type": "markdown",
      "source": [
        "##### 18. Python program to print all odd numbers in a range."
      ],
      "metadata": {
        "id": "2URXIWvAW36d"
      }
    },
    {
      "cell_type": "code",
      "source": [
        "print(f\"list: {ele_list}\")\n",
        "print(f\"odd numbers in range of index 1 to 5: [\",end=' ')\n",
        "for i in range(1,5):\n",
        "  if ele_list[i]%2 != 0:\n",
        "    print(ele_list[i],end=', ')\n",
        "print(\"]\")"
      ],
      "metadata": {
        "colab": {
          "base_uri": "https://localhost:8080/"
        },
        "id": "9TiTqF_XX_Np",
        "outputId": "1e1eb8b9-8f5c-4d7c-dbf9-5f096b7cd410"
      },
      "execution_count": 195,
      "outputs": [
        {
          "output_type": "stream",
          "name": "stdout",
          "text": [
            "list: [6, 5, 4, 3, 2, 1]\n",
            "odd numbers in range of index 1 to 5: [ 5, 3, ]\n"
          ]
        }
      ]
    },
    {
      "cell_type": "markdown",
      "source": [
        "##### 19. Python program to count even and odd numbers in a list."
      ],
      "metadata": {
        "id": "4nsACsZWW-E1"
      }
    },
    {
      "cell_type": "code",
      "source": [
        "print(f\"list: {ele_list}\")\n",
        "even,odd=[],[]\n",
        "for i in ele_list:\n",
        "  if i%2 == 0:\n",
        "    even.append(i)\n",
        "  else:\n",
        "    odd.append(i)\n",
        "\n",
        "print(f\"even numbers in list: {even}\")\n",
        "print(f\"odd numbers in list: {odd}\")"
      ],
      "metadata": {
        "colab": {
          "base_uri": "https://localhost:8080/"
        },
        "id": "SV3K7L1NX_sx",
        "outputId": "ffd56950-33e3-4174-d9e2-9412e3c09753"
      },
      "execution_count": 196,
      "outputs": [
        {
          "output_type": "stream",
          "name": "stdout",
          "text": [
            "list: [6, 5, 4, 3, 2, 1]\n",
            "even numbers in list: [6, 4, 2]\n",
            "odd numbers in list: [5, 3, 1]\n"
          ]
        }
      ]
    },
    {
      "cell_type": "markdown",
      "source": [
        "##### 20. Python program to print positive numbers in a list."
      ],
      "metadata": {
        "id": "NiqG8PUFXCoc"
      }
    },
    {
      "cell_type": "code",
      "source": [
        "ele_list4=[1,-2,3,-4,5,-6]\n",
        "print(f\"list: {ele_list4}\")\n",
        "pos=[]\n",
        "for i in ele_list4:\n",
        "  if i>-1:\n",
        "    pos.append(i)\n",
        "\n",
        "print(f\"positive numbers in list: {pos}\")"
      ],
      "metadata": {
        "colab": {
          "base_uri": "https://localhost:8080/"
        },
        "id": "xuHpkDSIYAUh",
        "outputId": "61c20b2d-f11e-466e-b8da-b4e7e1a11fb5"
      },
      "execution_count": 197,
      "outputs": [
        {
          "output_type": "stream",
          "name": "stdout",
          "text": [
            "list: [1, -2, 3, -4, 5, -6]\n",
            "positive numbers in list: [1, 3, 5]\n"
          ]
        }
      ]
    },
    {
      "cell_type": "markdown",
      "source": [
        "##### 21. Python program to print negative numbers in a list."
      ],
      "metadata": {
        "id": "0EI1HJaIXHT4"
      }
    },
    {
      "cell_type": "code",
      "source": [
        "ele_list4=[1,-2,3,-4,5,-6]\n",
        "print(f\"list: {ele_list4}\")\n",
        "neg=[]\n",
        "for i in ele_list4:\n",
        "  if i<0:\n",
        "    neg.append(i)\n",
        "\n",
        "print(f\"negetive numbers in list: {neg}\")"
      ],
      "metadata": {
        "colab": {
          "base_uri": "https://localhost:8080/"
        },
        "id": "K8oXgUMHYA3R",
        "outputId": "f0f93cc8-7f86-4dfe-f3cb-bdfe36c20288"
      },
      "execution_count": 198,
      "outputs": [
        {
          "output_type": "stream",
          "name": "stdout",
          "text": [
            "list: [1, -2, 3, -4, 5, -6]\n",
            "negetive numbers in list: [-2, -4, -6]\n"
          ]
        }
      ]
    },
    {
      "cell_type": "markdown",
      "source": [
        "##### 22. Python program to print all positive numbers in a range."
      ],
      "metadata": {
        "id": "eNsdiR1QXL0n"
      }
    },
    {
      "cell_type": "code",
      "source": [
        "ele_list4=[1,-2,3,-4,5,-6]\n",
        "print(f\"list: {ele_list4}\")\n",
        "pos=[]\n",
        "for i in range(1,5):\n",
        "  if ele_list4[i]>-1:\n",
        "    pos.append(ele_list4[i])\n",
        "\n",
        "print(f\"positive numbers in range of index 1 to 5: {pos}\")"
      ],
      "metadata": {
        "colab": {
          "base_uri": "https://localhost:8080/"
        },
        "id": "nPORdrD1YBTY",
        "outputId": "cb5f74ba-ccb0-491d-9c7f-6e74453f37bc"
      },
      "execution_count": 199,
      "outputs": [
        {
          "output_type": "stream",
          "name": "stdout",
          "text": [
            "list: [1, -2, 3, -4, 5, -6]\n",
            "positive numbers in range of index 1 to 5: [3, 5]\n"
          ]
        }
      ]
    },
    {
      "cell_type": "markdown",
      "source": [
        "##### 23. Python program to print all negative numbers in a range."
      ],
      "metadata": {
        "id": "DgD8AYmuXQ1D"
      }
    },
    {
      "cell_type": "code",
      "source": [
        "ele_list4=[1,-2,3,-4,5,-6]\n",
        "print(f\"list: {ele_list4}\")\n",
        "neg=[]\n",
        "for i in range(1,5):\n",
        "  if ele_list4[i]<0:\n",
        "    neg.append(ele_list4[i])\n",
        "\n",
        "print(f\"negetive numbers in range of index 1 to 5: {neg}\")"
      ],
      "metadata": {
        "colab": {
          "base_uri": "https://localhost:8080/"
        },
        "id": "3C7UwUECYBtJ",
        "outputId": "e98ba644-4cdd-49f2-824f-c8969fe460b8"
      },
      "execution_count": 200,
      "outputs": [
        {
          "output_type": "stream",
          "name": "stdout",
          "text": [
            "list: [1, -2, 3, -4, 5, -6]\n",
            "negetive numbers in range of index 1 to 5: [-2, -4]\n"
          ]
        }
      ]
    },
    {
      "cell_type": "markdown",
      "source": [
        "##### 24. Python program to count positive and negative numbers in a list."
      ],
      "metadata": {
        "id": "k1KEm_YHXVYE"
      }
    },
    {
      "cell_type": "code",
      "source": [
        "ele_list4=[1,-2,3,-4,5,-6]\n",
        "print(f\"list: {ele_list4}\")\n",
        "pos,neg=[],[]\n",
        "for i in ele_list4:\n",
        "  if i>-1:\n",
        "    pos.append(i)\n",
        "  else:\n",
        "    neg.append(i)\n",
        "\n",
        "print(f\"positive numbers in list: {pos}\")\n",
        "print(f\"negetive numbers in list: {neg}\")"
      ],
      "metadata": {
        "colab": {
          "base_uri": "https://localhost:8080/"
        },
        "id": "M5g_srfZYCMq",
        "outputId": "a4d95fff-f0af-4a0a-be26-d1853ef97ea9"
      },
      "execution_count": 201,
      "outputs": [
        {
          "output_type": "stream",
          "name": "stdout",
          "text": [
            "list: [1, -2, 3, -4, 5, -6]\n",
            "positive numbers in list: [1, 3, 5]\n",
            "negetive numbers in list: [-2, -4, -6]\n"
          ]
        }
      ]
    },
    {
      "cell_type": "markdown",
      "source": [
        "##### 25. Python program to remove multiple elements from a list in python."
      ],
      "metadata": {
        "id": "LXTg6EDBXakP"
      }
    },
    {
      "cell_type": "code",
      "source": [
        "ele_list4=[1,-2,3,-4,5,-6]\n",
        "elements_to_remove = [-2,-4,-6]\n",
        "print(f\"before: {ele_list4}\")\n",
        "for i in elements_to_remove:\n",
        "  ele_list4.pop(ele_list4.index(i))\n",
        "print(f\"after removing multiple elements {elements_to_remove} final list looks like this: {ele_list4}\")"
      ],
      "metadata": {
        "colab": {
          "base_uri": "https://localhost:8080/"
        },
        "id": "1VLkkPxjYCzw",
        "outputId": "cb6e3fb6-8749-4450-e232-3b96e0611de2"
      },
      "execution_count": 202,
      "outputs": [
        {
          "output_type": "stream",
          "name": "stdout",
          "text": [
            "before: [1, -2, 3, -4, 5, -6]\n",
            "after removing multiple elements [-2, -4, -6] final list looks like this: [1, 3, 5]\n"
          ]
        }
      ]
    },
    {
      "cell_type": "markdown",
      "source": [
        "##### 26. Python program to remove empty tuples from a list."
      ],
      "metadata": {
        "id": "xGOjOx6SXg0L"
      }
    },
    {
      "cell_type": "code",
      "source": [
        "ele_list5 = [(), (\"ram\",\"15\",\"8\"), (), (\"laxman\", \"sita\"), (\"krishna\", \"Hanuman\", \"45\"), (\",\"),()]\n",
        "print(f\"before: {ele_list5}\")\n",
        "for i in ele_list5:\n",
        "  if len(i) == 0:\n",
        "    ele_list5.pop(ele_list5.index(i))\n",
        "print(f\"after removing remove empty tuples from a list: {ele_list5}\")"
      ],
      "metadata": {
        "colab": {
          "base_uri": "https://localhost:8080/"
        },
        "id": "wvNLquG0YDOt",
        "outputId": "c4e38655-031f-4d59-a22f-98b464428627"
      },
      "execution_count": 203,
      "outputs": [
        {
          "output_type": "stream",
          "name": "stdout",
          "text": [
            "before: [(), ('ram', '15', '8'), (), ('laxman', 'sita'), ('krishna', 'Hanuman', '45'), ',', ()]\n",
            "after removing remove empty tuples from a list: [('ram', '15', '8'), ('laxman', 'sita'), ('krishna', 'Hanuman', '45'), ',']\n"
          ]
        }
      ]
    },
    {
      "cell_type": "code",
      "source": [],
      "metadata": {
        "id": "EZmvsYQo1lbI"
      },
      "execution_count": 203,
      "outputs": []
    }
  ]
}