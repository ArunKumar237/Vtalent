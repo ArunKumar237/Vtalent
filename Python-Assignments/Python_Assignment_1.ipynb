{
  "nbformat": 4,
  "nbformat_minor": 0,
  "metadata": {
    "colab": {
      "provenance": []
    },
    "kernelspec": {
      "name": "python3",
      "display_name": "Python 3"
    },
    "language_info": {
      "name": "python"
    }
  },
  "cells": [
    {
      "cell_type": "markdown",
      "source": [
        "#### Python-Assignment-1"
      ],
      "metadata": {
        "id": "YzajE0lFITNL"
      }
    },
    {
      "cell_type": "markdown",
      "source": [
        "##### 1. name = 'Arun Kumar'. Reverse words in a given string."
      ],
      "metadata": {
        "id": "HHbpKsx9Ifpq"
      }
    },
    {
      "cell_type": "code",
      "source": [
        "name = 'Arun Kumar'\n",
        "\n",
        "for i in reversed(name):\n",
        "  print(i,end='')\n"
      ],
      "metadata": {
        "colab": {
          "base_uri": "https://localhost:8080/"
        },
        "id": "LvU8xT86IKzg",
        "outputId": "95c1b20e-a692-4002-f9d7-5447c52a34b3"
      },
      "execution_count": 59,
      "outputs": [
        {
          "output_type": "stream",
          "name": "stdout",
          "text": [
            "ramuK nurA<reversed object at 0x7beeeff718d0>\n"
          ]
        }
      ]
    },
    {
      "cell_type": "markdown",
      "source": [
        "##### 2. How to get the 3rd character in name variable."
      ],
      "metadata": {
        "id": "E1PMqmU3Jf9Y"
      }
    },
    {
      "cell_type": "code",
      "source": [
        "print(name[2])\n",
        "# or\n",
        "print('Arun Kumar'[2])"
      ],
      "metadata": {
        "colab": {
          "base_uri": "https://localhost:8080/"
        },
        "id": "hrtbJ1cJI-iO",
        "outputId": "09ab994a-1de8-44e2-88d9-350dc2da426c"
      },
      "execution_count": 9,
      "outputs": [
        {
          "output_type": "stream",
          "name": "stdout",
          "text": [
            "u\n",
            "u\n"
          ]
        }
      ]
    },
    {
      "cell_type": "markdown",
      "source": [
        "##### 3. How to remove 3rd character from string variable 'name'."
      ],
      "metadata": {
        "id": "OBso7fpDKDmf"
      }
    },
    {
      "cell_type": "code",
      "source": [
        "print(name[:2]+a[3:])\n",
        "\n",
        "# or\n",
        "\n",
        "for i in range(len(name)):\n",
        "  if i==2:\n",
        "    pass\n",
        "  else:\n",
        "    print(name[i],end='')\n",
        "\n",
        "# or\n",
        "\n",
        "print('\\n'+name.replace(name[2],''))\n"
      ],
      "metadata": {
        "colab": {
          "base_uri": "https://localhost:8080/"
        },
        "id": "T5Zhs8RQJ1oR",
        "outputId": "f17c79cb-4f32-4a8f-99b0-e8f465cb5ebc"
      },
      "execution_count": 42,
      "outputs": [
        {
          "output_type": "stream",
          "name": "stdout",
          "text": [
            "Arn\n",
            "Arn\n",
            "Arn\n"
          ]
        }
      ]
    },
    {
      "cell_type": "markdown",
      "source": [
        "##### 4. How to get the 7th character till end of the content in name variable"
      ],
      "metadata": {
        "id": "7uGt4zVMKgUG"
      }
    },
    {
      "cell_type": "code",
      "source": [
        "print(f\"7th character till the end of the string '{name}' is: {name[6:]}\")"
      ],
      "metadata": {
        "colab": {
          "base_uri": "https://localhost:8080/"
        },
        "id": "p_HQCigLOV-t",
        "outputId": "c031db56-1e08-442e-9a8e-af021a21552a"
      },
      "execution_count": 40,
      "outputs": [
        {
          "output_type": "stream",
          "name": "stdout",
          "text": [
            " 7th character till the end of the string 'Arun Kumar' is: umar\n"
          ]
        }
      ]
    },
    {
      "cell_type": "markdown",
      "source": [
        "##### 5. How to remove 7th character till end of the content in name variable"
      ],
      "metadata": {
        "id": "hgMu5EI6Ogy2"
      }
    },
    {
      "cell_type": "code",
      "source": [
        "print(f\"7th character till the end of the string '{name}' is: {name[6:]}\")"
      ],
      "metadata": {
        "colab": {
          "base_uri": "https://localhost:8080/"
        },
        "id": "-xvOclJIPLqi",
        "outputId": "c5e66aa4-6d9f-44b8-c2df-9e88d7b9f304"
      },
      "execution_count": 46,
      "outputs": [
        {
          "output_type": "stream",
          "name": "stdout",
          "text": [
            " 7th character till the end of the string 'Arun Kumar' is: umar\n"
          ]
        }
      ]
    },
    {
      "cell_type": "markdown",
      "source": [
        "##### 6. Find the length of the name variable"
      ],
      "metadata": {
        "id": "6BtyroKdP0Wa"
      }
    },
    {
      "cell_type": "code",
      "source": [
        "print(f\"length of the string '{name}' is: {len(name)}\")"
      ],
      "metadata": {
        "colab": {
          "base_uri": "https://localhost:8080/"
        },
        "id": "H212XYgWQNhF",
        "outputId": "144b7e44-ac4a-4160-bad3-e277253873c2"
      },
      "execution_count": 47,
      "outputs": [
        {
          "output_type": "stream",
          "name": "stdout",
          "text": [
            "length of the string 'Arun Kumar' is: 10\n"
          ]
        }
      ]
    },
    {
      "cell_type": "markdown",
      "source": [
        "##### 7. Remove spaces in name variable"
      ],
      "metadata": {
        "id": "onSSdXqPQWsW"
      }
    },
    {
      "cell_type": "code",
      "source": [
        "name.replace(' ','')\n",
        "\n",
        "# or\n",
        "\n",
        "for i in name:\n",
        "  if i!=' ':\n",
        "    print(i,end='')"
      ],
      "metadata": {
        "colab": {
          "base_uri": "https://localhost:8080/"
        },
        "id": "rdxnFV2hQ7dE",
        "outputId": "20bb5bac-20c8-45da-b8aa-7fca9e4df8e8"
      },
      "execution_count": 55,
      "outputs": [
        {
          "output_type": "stream",
          "name": "stdout",
          "text": [
            "ArunKumar"
          ]
        }
      ]
    },
    {
      "cell_type": "markdown",
      "source": [
        "##### 8. Change the characters in name variable to all uppercase."
      ],
      "metadata": {
        "id": "rnR3q4oLRBYP"
      }
    },
    {
      "cell_type": "code",
      "source": [
        "name.upper()"
      ],
      "metadata": {
        "colab": {
          "base_uri": "https://localhost:8080/",
          "height": 36
        },
        "id": "zdLafHmLR6WB",
        "outputId": "1f738d89-3b4e-45b6-c91a-f43cc87b83f9"
      },
      "execution_count": 56,
      "outputs": [
        {
          "output_type": "execute_result",
          "data": {
            "text/plain": [
              "'ARUN KUMAR'"
            ],
            "application/vnd.google.colaboratory.intrinsic+json": {
              "type": "string"
            }
          },
          "metadata": {},
          "execution_count": 56
        }
      ]
    },
    {
      "cell_type": "markdown",
      "source": [
        "##### 9. slicing in python to rotate name"
      ],
      "metadata": {
        "id": "e6lr8mhiR8SR"
      }
    },
    {
      "cell_type": "code",
      "source": [
        "name[::-1]"
      ],
      "metadata": {
        "colab": {
          "base_uri": "https://localhost:8080/",
          "height": 36
        },
        "id": "3W1ylgD3SP9A",
        "outputId": "2e9558a6-4bd5-412f-d31a-9a1a75568d23"
      },
      "execution_count": 61,
      "outputs": [
        {
          "output_type": "execute_result",
          "data": {
            "text/plain": [
              "'ramuK nurA'"
            ],
            "application/vnd.google.colaboratory.intrinsic+json": {
              "type": "string"
            }
          },
          "metadata": {},
          "execution_count": 61
        }
      ]
    },
    {
      "cell_type": "markdown",
      "source": [
        "##### 10. Verify all methods in string class."
      ],
      "metadata": {
        "id": "hcAgkkzXTTO1"
      }
    },
    {
      "cell_type": "code",
      "source": [
        "'done'"
      ],
      "metadata": {
        "colab": {
          "base_uri": "https://localhost:8080/",
          "height": 36
        },
        "id": "2H3JY2GQTa6o",
        "outputId": "4f011d45-d1b4-4567-e77e-ffbf33c39986"
      },
      "execution_count": 62,
      "outputs": [
        {
          "output_type": "execute_result",
          "data": {
            "text/plain": [
              "'done'"
            ],
            "application/vnd.google.colaboratory.intrinsic+json": {
              "type": "string"
            }
          },
          "metadata": {},
          "execution_count": 62
        }
      ]
    },
    {
      "cell_type": "markdown",
      "source": [
        "##### 11. check if a 'Kumar' is present in name or not."
      ],
      "metadata": {
        "id": "hELpg1GuUfVH"
      }
    },
    {
      "cell_type": "code",
      "source": [
        "name.find('Kumar')"
      ],
      "metadata": {
        "colab": {
          "base_uri": "https://localhost:8080/"
        },
        "id": "tobhyj-kV98W",
        "outputId": "b840055b-4020-4c95-9f6d-1fc004533dff"
      },
      "execution_count": 66,
      "outputs": [
        {
          "output_type": "execute_result",
          "data": {
            "text/plain": [
              "5"
            ]
          },
          "metadata": {},
          "execution_count": 66
        }
      ]
    },
    {
      "cell_type": "markdown",
      "source": [
        "##### 12. remove 'Kumar' from name"
      ],
      "metadata": {
        "id": "nFnl8oncWOB1"
      }
    },
    {
      "cell_type": "code",
      "source": [
        "name.replace('Kumar','').strip()"
      ],
      "metadata": {
        "colab": {
          "base_uri": "https://localhost:8080/",
          "height": 36
        },
        "id": "mpHIE6gFWWrj",
        "outputId": "006687d8-e337-445f-f3a8-296d31808be3"
      },
      "execution_count": 69,
      "outputs": [
        {
          "output_type": "execute_result",
          "data": {
            "text/plain": [
              "'Arun'"
            ],
            "application/vnd.google.colaboratory.intrinsic+json": {
              "type": "string"
            }
          },
          "metadata": {},
          "execution_count": 69
        }
      ]
    },
    {
      "cell_type": "markdown",
      "source": [
        "##### 13. find the content of name till 'Kumar'."
      ],
      "metadata": {
        "id": "wgZyC_qfTnEg"
      }
    },
    {
      "cell_type": "code",
      "source": [
        "index = name.find('Kumar')\n",
        "name[:index]"
      ],
      "metadata": {
        "colab": {
          "base_uri": "https://localhost:8080/",
          "height": 36
        },
        "id": "6q7dk_DaT0kA",
        "outputId": "6b660670-5229-452c-81e0-f00c28e4022f"
      },
      "execution_count": 70,
      "outputs": [
        {
          "output_type": "execute_result",
          "data": {
            "text/plain": [
              "'Arun '"
            ],
            "application/vnd.google.colaboratory.intrinsic+json": {
              "type": "string"
            }
          },
          "metadata": {},
          "execution_count": 70
        }
      ]
    },
    {
      "cell_type": "markdown",
      "source": [
        "##### 14. python program to check whether the string is symmetrical or palindrome."
      ],
      "metadata": {
        "id": "qUdRfpumW1Te"
      }
    },
    {
      "cell_type": "code",
      "source": [
        "str_list = ['radar','arun']\n",
        "\n",
        "for i in str_list:\n",
        "  if i[::-1] == i:\n",
        "    print(f'\"{i}\" is a palindrome')\n",
        "  else:\n",
        "    print(f'\"{i}\" is not a palindrome')"
      ],
      "metadata": {
        "colab": {
          "base_uri": "https://localhost:8080/"
        },
        "id": "-df1PHF1W8Ok",
        "outputId": "0fc17aa8-17fa-4c29-8091-56f782350c36"
      },
      "execution_count": 77,
      "outputs": [
        {
          "output_type": "stream",
          "name": "stdout",
          "text": [
            "\"radar\" is a palindrome\n",
            "\"arun\" is not a palindrome\n"
          ]
        }
      ]
    },
    {
      "cell_type": "markdown",
      "source": [
        "##### 15. reverse the words in a given string."
      ],
      "metadata": {
        "id": "1tnHon1kXr7O"
      }
    },
    {
      "cell_type": "code",
      "source": [
        "string = 'The quick brown fox jumps over the lazy dog'\n",
        "\n",
        "print(' '.join(string.split(' ')[::-1]))\n",
        "\n",
        "# or\n",
        "\n",
        "for i in reversed(string.split()):\n",
        "  print(i,end=' ')"
      ],
      "metadata": {
        "colab": {
          "base_uri": "https://localhost:8080/"
        },
        "id": "ii4qaQ_GX3Db",
        "outputId": "10f9c06f-3568-4350-e0c6-b8ae06a911be"
      },
      "execution_count": 75,
      "outputs": [
        {
          "output_type": "stream",
          "name": "stdout",
          "text": [
            "dog lazy the over jumps fox brown quick The\n",
            "dog lazy the over jumps fox brown quick The "
          ]
        }
      ]
    },
    {
      "cell_type": "markdown",
      "source": [
        "##### 16. ways to remove i'th character from string in python."
      ],
      "metadata": {
        "id": "0AVl_4bEYTA_"
      }
    },
    {
      "cell_type": "code",
      "source": [
        "# way 1\n",
        "print(f'after removing 4th character from {name}: {name[:3]+name[4:]}')\n",
        "\n",
        "# way 2\n",
        "print(f'after removing 4th character from {name}:',end=' ')\n",
        "for i in range(len(name)):\n",
        "  if i != 3:\n",
        "    print(name[i],end='')\n"
      ],
      "metadata": {
        "colab": {
          "base_uri": "https://localhost:8080/"
        },
        "id": "2rMD7PC5Y6XT",
        "outputId": "9c53565a-effe-435c-c890-0e8ebd796f5c"
      },
      "execution_count": 407,
      "outputs": [
        {
          "output_type": "stream",
          "name": "stdout",
          "text": [
            "after removing 4th character from encyclopedia: encclopedia\n",
            "after removing 4th character from encyclopedia: encclopedia"
          ]
        }
      ]
    },
    {
      "cell_type": "markdown",
      "source": [
        "##### 17. find the length of a sting in python (4 ways)"
      ],
      "metadata": {
        "id": "_PQ0xU84ZhF3"
      }
    },
    {
      "cell_type": "code",
      "source": [
        "# way 1\n",
        "print(len(name))\n",
        "\n",
        "# way 2\n",
        "count=0\n",
        "for i in name:\n",
        "  count+=1\n",
        "print(count)\n",
        "\n",
        "# way 3\n",
        "print(sum(1 for i in name))\n",
        "\n",
        "# way 4\n",
        "s = 0\n",
        "for i, a in enumerate(name):\n",
        "    s += 1\n",
        "print(s)"
      ],
      "metadata": {
        "colab": {
          "base_uri": "https://localhost:8080/"
        },
        "id": "ClOibDOgc0WY",
        "outputId": "c6893172-f948-4d59-8da6-175ba77223ec"
      },
      "execution_count": 102,
      "outputs": [
        {
          "output_type": "stream",
          "name": "stdout",
          "text": [
            "10\n",
            "10\n",
            "10\n",
            "10\n"
          ]
        }
      ]
    },
    {
      "cell_type": "markdown",
      "source": [
        "##### 18. Avoid spaces in a given string."
      ],
      "metadata": {
        "id": "JTO8eNkQd9de"
      }
    },
    {
      "cell_type": "code",
      "source": [
        "''.join([i for i in string if i != ' '])"
      ],
      "metadata": {
        "colab": {
          "base_uri": "https://localhost:8080/",
          "height": 36
        },
        "id": "xKRmJhRFfkTI",
        "outputId": "64c87156-1d42-4d72-b888-82b8b979eb2b"
      },
      "execution_count": 107,
      "outputs": [
        {
          "output_type": "execute_result",
          "data": {
            "text/plain": [
              "'Thequickbrownfoxjumpsoverthelazydog'"
            ],
            "application/vnd.google.colaboratory.intrinsic+json": {
              "type": "string"
            }
          },
          "metadata": {},
          "execution_count": 107
        }
      ]
    },
    {
      "cell_type": "markdown",
      "source": [
        "##### 19. Python program to print even length words in a string"
      ],
      "metadata": {
        "id": "Y6Pa2ytjgMz3"
      }
    },
    {
      "cell_type": "code",
      "source": [
        "print(f'orginal string: {string}')\n",
        "print(f\"even length words of the string: {', '.join([i for i in string.split() if len(i)%2==0])}\")"
      ],
      "metadata": {
        "colab": {
          "base_uri": "https://localhost:8080/"
        },
        "id": "eLRIUorTgo2V",
        "outputId": "9106991a-d6d7-4323-ff1a-793d29e08c29"
      },
      "execution_count": 121,
      "outputs": [
        {
          "output_type": "stream",
          "name": "stdout",
          "text": [
            "orginal string: The quick brown fox jumps over the lazy dog\n",
            "even length words of the string: over, lazy\n"
          ]
        }
      ]
    },
    {
      "cell_type": "markdown",
      "source": [
        "##### 20. Python uppercase half string"
      ],
      "metadata": {
        "id": "pAzkab9ah5I9"
      }
    },
    {
      "cell_type": "code",
      "source": [
        "mid = len(string)//2\n",
        "print(f\"half of the string is converted to uppercase:\")\n",
        "print(f\"{string[:mid].upper() + string[mid:]}\")"
      ],
      "metadata": {
        "colab": {
          "base_uri": "https://localhost:8080/"
        },
        "id": "WYqXR1XDh6vw",
        "outputId": "2eed6471-ff34-47c2-bcd3-9df20d261d56"
      },
      "execution_count": 127,
      "outputs": [
        {
          "output_type": "stream",
          "name": "stdout",
          "text": [
            "half of the string is converted to uppercase:\n",
            "THE QUICK BROWN FOX Jumps over the lazy dog\n"
          ]
        }
      ]
    },
    {
      "cell_type": "markdown",
      "source": [
        "##### 21. Python program to capitalize the first and last character of each word in a string"
      ],
      "metadata": {
        "id": "YtLiLgRTizuT"
      }
    },
    {
      "cell_type": "code",
      "source": [
        "print(f'orginal string: {string}')\n",
        "print(' '.join([i.replace(i[0],i[0].upper()).replace(i[-1],i[-1].upper()) for i in string.split()]))\n",
        "\n",
        "# or\n",
        "\n",
        "for i in string.split():\n",
        "  a = i.replace(i[0],i[0].upper())\n",
        "  a.replace(i[-1],i[-1].upper())\n",
        "  print(a,end=' ')"
      ],
      "metadata": {
        "colab": {
          "base_uri": "https://localhost:8080/"
        },
        "id": "iePXIcipi3Oi",
        "outputId": "3c17a23e-3791-432c-9e69-fc2afa94f969"
      },
      "execution_count": 133,
      "outputs": [
        {
          "output_type": "stream",
          "name": "stdout",
          "text": [
            "orginal string: The quick brown fox jumps over the lazy dog\n",
            "ThE QuicK BrowN FoX JumpS OveR ThE LazY DoG\n",
            "The Quick Brown Fox Jumps Over The Lazy Dog "
          ]
        }
      ]
    },
    {
      "cell_type": "markdown",
      "source": [
        "##### 22. Python program to check if a string has atleast one letter and one number."
      ],
      "metadata": {
        "id": "5LBDkqNej7wc"
      }
    },
    {
      "cell_type": "code",
      "source": [
        "def checking(text):\n",
        "  check = ''\n",
        "  for i in text:\n",
        "    if i.isdigit():\n",
        "      check = check + 'n'\n",
        "    elif i.isalpha():\n",
        "      check = check + 'c'\n",
        "\n",
        "  if ('n' in check) and ('c' in check):\n",
        "    print(f\"Yes! '{text}' has atleast one letter and one number\")\n",
        "  else:\n",
        "    print(f\"No! '{text}' doesn't have atleast one letter and one number\")"
      ],
      "metadata": {
        "id": "3L7dcS_ttOvA"
      },
      "execution_count": 199,
      "outputs": []
    },
    {
      "cell_type": "code",
      "source": [
        "checking('Arun')\n",
        "checking('123')\n",
        "checking('Arun123')"
      ],
      "metadata": {
        "colab": {
          "base_uri": "https://localhost:8080/"
        },
        "id": "r-4ohnWywFhU",
        "outputId": "0bb5bd79-304b-488a-f765-280de7aae32b"
      },
      "execution_count": 200,
      "outputs": [
        {
          "output_type": "stream",
          "name": "stdout",
          "text": [
            "No! 'Arun' doesn't have atleast one letter and one number\n",
            "No! '123' doesn't have atleast one letter and one number\n",
            "Yes! 'Arun123' has atleast one letter and one number\n"
          ]
        }
      ]
    },
    {
      "cell_type": "markdown",
      "source": [
        "##### 23. Python program to accept the strings which contains all vowels."
      ],
      "metadata": {
        "id": "jjnKbVZqsBd6"
      }
    },
    {
      "cell_type": "code",
      "source": [
        "def isVowel(text):\n",
        "  text = text.lower()\n",
        "  temp = 'n'\n",
        "  if ('a' in text) and ('e' in text) and ('i' in text) and ('o' in text) and ('u' in text):\n",
        "    temp = 'y'\n",
        "\n",
        "\n",
        "  if temp == 'y':\n",
        "    print(f\"'{text}' is a string which contains all vowels\")\n",
        "  else:\n",
        "    print(f\"'{text}' is a string which doesn't contains all vowels\")"
      ],
      "metadata": {
        "id": "iW19WUSrxUmL"
      },
      "execution_count": 238,
      "outputs": []
    },
    {
      "cell_type": "code",
      "source": [
        "isVowel('arun')\n",
        "isVowel('aeiou')\n",
        "isVowel('Aerious')"
      ],
      "metadata": {
        "colab": {
          "base_uri": "https://localhost:8080/"
        },
        "id": "TZmHjijSx83T",
        "outputId": "e046e308-f1d2-471b-a962-24e59a53096f"
      },
      "execution_count": 239,
      "outputs": [
        {
          "output_type": "stream",
          "name": "stdout",
          "text": [
            "'arun' is a string which doesn't contains all vowels\n",
            "'aeiou' is a string which contains all vowels\n",
            "'aerious' is a string which contains all vowels\n"
          ]
        }
      ]
    },
    {
      "cell_type": "markdown",
      "source": [
        "##### 24. Python program count the number of matching characters in a pair of string."
      ],
      "metadata": {
        "id": "JtV9--Hox_SR"
      }
    },
    {
      "cell_type": "code",
      "source": [
        "a = 'aabcddeefff'\n",
        "b = 'abbcddef'\n",
        "c = set(a).intersection(set(b))\n",
        "count_dic = {}\n",
        "for i in c:\n",
        "  if a.count(i) > b.count(i):\n",
        "    count_dic[i]=b.count(i)\n",
        "  else:\n",
        "    count_dic[i]=a.count(i)\n",
        "\n",
        "print(f'count of matching characters in a pair of string:\\na : {a}\\nb : {b}\\n{count_dic}')"
      ],
      "metadata": {
        "colab": {
          "base_uri": "https://localhost:8080/"
        },
        "id": "QVtfkiwK3EvN",
        "outputId": "74a7871b-536b-4485-efec-9060e7fa347e"
      },
      "execution_count": 276,
      "outputs": [
        {
          "output_type": "stream",
          "name": "stdout",
          "text": [
            "count of matching characters in a pair of string:\n",
            "a : aabcddeefff\n",
            "b : abbcddef\n",
            "{'e': 1, 'f': 1, 'a': 1, 'c': 1, 'b': 1, 'd': 2}\n"
          ]
        }
      ]
    },
    {
      "cell_type": "markdown",
      "source": [
        "##### 25. Python program to count the number of vowels using sets in given string."
      ],
      "metadata": {
        "id": "IHOJBwyH45VW"
      }
    },
    {
      "cell_type": "code",
      "source": [
        "a = 'Arun kumar'\n",
        "vowels = set('aeiou')\n",
        "vowel_set = set(a.lower()).intersection(vowels)\n",
        "print(f'count of the number of vowels using sets in string \"{a}\" : {len(vowel_set)}')\n",
        "print(f'vowels found in the string: {vowel_set}')"
      ],
      "metadata": {
        "colab": {
          "base_uri": "https://localhost:8080/"
        },
        "id": "DaVso6P-BtFS",
        "outputId": "376169a2-284c-42d1-b55f-0df7867927a4"
      },
      "execution_count": 283,
      "outputs": [
        {
          "output_type": "stream",
          "name": "stdout",
          "text": [
            "count of the number of vowels using sets in string \"Arun kumar\" : 2\n",
            "vowels found in the string: {'a', 'u'}\n"
          ]
        }
      ]
    },
    {
      "cell_type": "markdown",
      "source": [
        "##### 26. Python program to remove all duplicates from a given string."
      ],
      "metadata": {
        "id": "MsyJq8LxG9Qx"
      }
    },
    {
      "cell_type": "code",
      "source": [
        "a = 'Python program to remove all duplicates from a given string'\n",
        "a = a.lower()\n",
        "print(''.join(set(a)))"
      ],
      "metadata": {
        "colab": {
          "base_uri": "https://localhost:8080/"
        },
        "id": "mMjw9ZHDI2Ao",
        "outputId": "93abc7f2-a242-438d-947c-4fd4fc501909"
      },
      "execution_count": 284,
      "outputs": [
        {
          "output_type": "stream",
          "name": "stdout",
          "text": [
            "efmcyu rtovpnhgsiald\n"
          ]
        }
      ]
    },
    {
      "cell_type": "markdown",
      "source": [
        "##### 27. Python program to identify least frequency character in string."
      ],
      "metadata": {
        "id": "jOpBuUxDSzK8"
      }
    },
    {
      "cell_type": "code",
      "source": [
        "def freq_count(string):\n",
        "  string=string.lower()\n",
        "  count = 0\n",
        "  char = ''\n",
        "  dic = {}\n",
        "  for i in set(string):\n",
        "    dic[string.count(i)] = i\n",
        "\n",
        "  min_freq = min(dic.keys())\n",
        "  print(f'input string: {string}\\nleast frequency character: {dic[min_freq],min_freq}')\n",
        "\n",
        "freq_count(\"Python program to identify least frequency character in string\")"
      ],
      "metadata": {
        "colab": {
          "base_uri": "https://localhost:8080/"
        },
        "id": "QOttdMyYS6M9",
        "outputId": "07e869d9-20c4-4fb2-c3be-592313d90fd4"
      },
      "execution_count": 322,
      "outputs": [
        {
          "output_type": "stream",
          "name": "stdout",
          "text": [
            "input string: python program to identify least frequency character in string\n",
            "least frequency character: ('d', 1)\n"
          ]
        }
      ]
    },
    {
      "cell_type": "markdown",
      "source": [
        "##### 28. Python program to identify maximum frequency character in string."
      ],
      "metadata": {
        "id": "rDfJroQ4Jfo-"
      }
    },
    {
      "cell_type": "code",
      "source": [
        "def freq_count(string):\n",
        "  string=string.lower()\n",
        "  count = 0\n",
        "  char = ''\n",
        "  dic = {}\n",
        "  for i in set(string):\n",
        "    dic[string.count(i)] = i\n",
        "\n",
        "  max_freq = max(dic.keys())\n",
        "  print(f'input string: {string}\\nleast frequency character: {dic[max_freq],max_freq}')\n",
        "\n",
        "freq_count(\"Python program to identify least frequency character in string\")"
      ],
      "metadata": {
        "colab": {
          "base_uri": "https://localhost:8080/"
        },
        "id": "8_aYidKOJ0yq",
        "outputId": "cbd7c2a4-9189-4e99-df49-e1660c945f78"
      },
      "execution_count": 323,
      "outputs": [
        {
          "output_type": "stream",
          "name": "stdout",
          "text": [
            "input string: python program to identify least frequency character in string\n",
            "least frequency character: (' ', 8)\n"
          ]
        }
      ]
    },
    {
      "cell_type": "markdown",
      "source": [
        "##### 29. Python program to identify Odd frequency characters."
      ],
      "metadata": {
        "id": "doL7BmZVRRKa"
      }
    },
    {
      "cell_type": "code",
      "source": [
        "def freq_count(string):\n",
        "  string=string.lower()\n",
        "  count = 0\n",
        "  char = ''\n",
        "  dic = {}\n",
        "  for i in set(string):\n",
        "    dic[string.count(i)] = i\n",
        "\n",
        "  print(f'input string: {string}\\nOdd frequency characters:',end=' ')\n",
        "  for i in dic.keys():\n",
        "    if i%2 != 0:\n",
        "      print(f'{dic[i],i}',end=' ')\n",
        "\n",
        "freq_count(\"Python program to identify least frequency character in string\")"
      ],
      "metadata": {
        "colab": {
          "base_uri": "https://localhost:8080/"
        },
        "id": "rIBn6jxSYBzV",
        "outputId": "49985a30-22d3-401d-a78e-4139580e6a8c"
      },
      "execution_count": 327,
      "outputs": [
        {
          "output_type": "stream",
          "name": "stdout",
          "text": [
            "input string: python program to identify least frequency character in string\n",
            "Odd frequency characters: ('n', 5) ('d', 1) ('o', 3) "
          ]
        }
      ]
    },
    {
      "cell_type": "markdown",
      "source": [
        "##### 30. Python program to identify specific characters frequency in string list."
      ],
      "metadata": {
        "id": "r9isELunY1YV"
      }
    },
    {
      "cell_type": "code",
      "source": [
        "test_list = [\"Python program to identify specific characters frequency in string list\"]\n",
        "chr_list = [\"e\",\"b\",\"g\",\"f\"]\n",
        "spcf = {}\n",
        "\n",
        "for i in test_list:\n",
        "  for j in chr_list:\n",
        "    if j in i:\n",
        "      spcf[j]=i.count(j)\n",
        "    else:\n",
        "      spcf[j]=None\n",
        "print(f'Input string: \"Python program to identify specific characters frequency in string list\"\\nfrequecy of specified characters: {spcf}')\n"
      ],
      "metadata": {
        "colab": {
          "base_uri": "https://localhost:8080/"
        },
        "id": "DX6w8EfhZNDI",
        "outputId": "fd11e887-e0e3-453a-98e5-7a41699219a2"
      },
      "execution_count": 336,
      "outputs": [
        {
          "output_type": "stream",
          "name": "stdout",
          "text": [
            "Input string: \"Python program to identify specific characters frequency in string list\"\n",
            "frequecy of specified characters: {'e': 5, 'b': None, 'g': 2, 'f': 3}\n"
          ]
        }
      ]
    },
    {
      "cell_type": "markdown",
      "source": [
        "##### 31. Python program to identify frequency of every character in a given string."
      ],
      "metadata": {
        "id": "NkbHnHh4bI98"
      }
    },
    {
      "cell_type": "code",
      "source": [
        "input=\"Python program to identify frequency of every character in a given string\"\n",
        "frq_dic = dict()\n",
        "for i in set(input):\n",
        "  frq_dic[i] = input.count(i)\n",
        "\n",
        "print(f\"input string: '{input}'\")\n",
        "print(f\"frequency of every character: \")\n",
        "for i in sorted(frq_dic.keys()):\n",
        "  print((i,frq_dic[i]), end='')"
      ],
      "metadata": {
        "colab": {
          "base_uri": "https://localhost:8080/"
        },
        "id": "IzdUqxzXdV-f",
        "outputId": "938f8145-3719-4c77-d1a2-4d15a67bd1c4"
      },
      "execution_count": 383,
      "outputs": [
        {
          "output_type": "stream",
          "name": "stdout",
          "text": [
            "input string: 'Python program to identify frequency of every character in a given string'\n",
            "frequency of every character: \n",
            "(' ', 11)('P', 1)('a', 4)('c', 3)('d', 1)('e', 7)('f', 3)('g', 3)('h', 2)('i', 5)('m', 1)('n', 6)('o', 4)('p', 1)('q', 1)('r', 7)('s', 1)('t', 5)('u', 1)('v', 2)('y', 4)"
          ]
        }
      ]
    },
    {
      "cell_type": "markdown",
      "source": [
        "##### 32. Python program to check if a string contains any special character."
      ],
      "metadata": {
        "id": "g3ClJSgFeGaC"
      }
    },
    {
      "cell_type": "code",
      "source": [
        "spl_char = \"!\\\"#$%&'()*+,-./:;<=>?@[\\]^_`{|}~\"\n",
        "input_str = \"Python program to check if a str$ng contains any special character\"\n",
        "\n",
        "print(f\"input string: {input_str}\")\n",
        "charset = set(spl_char).intersection(set(input_str.replace(\" \",\"\")))\n",
        "print(f\"list of special characters contained in input string: {charset}\")"
      ],
      "metadata": {
        "colab": {
          "base_uri": "https://localhost:8080/"
        },
        "id": "2cxodK2ujJH1",
        "outputId": "3d2f0bcf-7f5d-4309-c3ac-216f3554e50c"
      },
      "execution_count": 387,
      "outputs": [
        {
          "output_type": "stream",
          "name": "stdout",
          "text": [
            "input string: Python program to check if a str$ng contains any special character\n",
            "list of special characters contained in input string: {'$'}\n"
          ]
        }
      ]
    },
    {
      "cell_type": "markdown",
      "source": [
        "##### 33. Generating random strings until a given string is generated."
      ],
      "metadata": {
        "id": "Nz4ZGBH5kOjH"
      }
    },
    {
      "cell_type": "code",
      "source": [
        "# copied from internet after trying the logic multiple times\n",
        "\n",
        "import string\n",
        "import random\n",
        "import time\n",
        "\n",
        "\n",
        "possibleCharacters = string.ascii_lowercase + string.digits +\tstring.ascii_uppercase + ' ., !?;:'\n",
        "\n",
        "\n",
        "t = \"arun\"\n",
        "\n",
        "attemptThis = ''.join(random.choice(possibleCharacters)\n",
        "\t\t\t\t\t\t\t\tfor i in range(len(t)))\n",
        "attemptNext = ''\n",
        "\n",
        "completed = False\n",
        "iteration = 0\n",
        "\n",
        "\n",
        "while completed == False:\n",
        "\tprint(attemptThis)\n",
        "\n",
        "\tattemptNext = ''\n",
        "\tcompleted = True\n",
        "\n",
        "\n",
        "\tfor i in range(len(t)):\n",
        "\t\tif attemptThis[i] != t[i]:\n",
        "\t\t\tcompleted = False\n",
        "\t\t\tattemptNext += random.choice(possibleCharacters)\n",
        "\t\telse:\n",
        "\t\t\tattemptNext += t[i]\n",
        "\n",
        "\n",
        "\titeration += 1\n",
        "\tattemptThis = attemptNext\n",
        "\ttime.sleep(0.1)\n",
        "\n",
        "\n",
        "print(\"Target matched after \" +\n",
        "\tstr(iteration) + \" iterations\")\n"
      ],
      "metadata": {
        "id": "SLd0Eu0wlFUb"
      },
      "execution_count": null,
      "outputs": []
    },
    {
      "cell_type": "markdown",
      "source": [
        "##### 34. Find the words which are greater than given length k"
      ],
      "metadata": {
        "id": "_1OXwfo2l_DV"
      }
    },
    {
      "cell_type": "code",
      "source": [
        "input = \"Find the words which are greater than given length k\"\n",
        "ln = 4\n",
        "print(f'length given: {ln}')\n",
        "for i in input.split():\n",
        "  if len(i) > ln:\n",
        "    print(i,end=' ')"
      ],
      "metadata": {
        "colab": {
          "base_uri": "https://localhost:8080/"
        },
        "id": "t8_OPRh5m4nV",
        "outputId": "da5d01bc-0ed3-4684-8dcf-9f1af9dea0ae"
      },
      "execution_count": 392,
      "outputs": [
        {
          "output_type": "stream",
          "name": "stdout",
          "text": [
            "length given: 4\n",
            "words which greater given length "
          ]
        }
      ]
    },
    {
      "cell_type": "markdown",
      "source": [
        "##### 35. Python program for removing ith character from a string."
      ],
      "metadata": {
        "id": "_saBZV9ZoAEe"
      }
    },
    {
      "cell_type": "code",
      "source": [
        "name = 'encyclopedia'\n",
        "position = 5\n",
        "# way 1\n",
        "print(f'after removing {position}th character from {name}: {name[:position-1]+name[position:]}')\n",
        "\n",
        "# way 2\n",
        "print(f'after removing 4th character from {name}:',end=' ')\n",
        "for i in range(len(name)):\n",
        "  if i != position-1:\n",
        "    print(name[i],end='')"
      ],
      "metadata": {
        "colab": {
          "base_uri": "https://localhost:8080/"
        },
        "id": "FE0yfmVIob0d",
        "outputId": "89695fdc-4b93-4724-ef98-ec192a786ac5"
      },
      "execution_count": 406,
      "outputs": [
        {
          "output_type": "stream",
          "name": "stdout",
          "text": [
            "after removing 5th character from encyclopedia: encylopedia\n",
            "after removing 4th character from encyclopedia: encylopedia"
          ]
        }
      ]
    },
    {
      "cell_type": "markdown",
      "source": [
        "##### 36. Python program to split and join a string."
      ],
      "metadata": {
        "id": "g2AAOrE8o1Vq"
      }
    },
    {
      "cell_type": "code",
      "source": [
        "input = \"pneumonoultramicroscopicsilicovolcanoconiosis\"\n",
        "print('input:',input)\n",
        "o1 = input.split()\n",
        "print('after split:',o1)\n",
        "o2 = ''.join(o1)\n",
        "print('after join:', o2)"
      ],
      "metadata": {
        "colab": {
          "base_uri": "https://localhost:8080/"
        },
        "id": "QChj-vs2qnVQ",
        "outputId": "e114c409-1efd-4be3-8cf3-b46671e6ec7f"
      },
      "execution_count": 408,
      "outputs": [
        {
          "output_type": "stream",
          "name": "stdout",
          "text": [
            "input: pneumonoultramicroscopicsilicovolcanoconiosis\n",
            "after split: ['pneumonoultramicroscopicsilicovolcanoconiosis']\n",
            "after join: pneumonoultramicroscopicsilicovolcanoconiosis\n"
          ]
        }
      ]
    },
    {
      "cell_type": "markdown",
      "source": [
        "##### 37. Python program to find uncommon words from two strings."
      ],
      "metadata": {
        "id": "pT52_S_krM8J"
      }
    },
    {
      "cell_type": "code",
      "source": [
        "string1 = \"Python program to find uncommon words from two strings\"\n",
        "string2 = \"Python program to split and join a string\"\n",
        "o1 = set(string1.split(' ')).difference(set(string2.split(' ')))\n",
        "o2 = set(string2.split(' ')).difference(set(string1.split(' ')))\n",
        "final_list = o1.union(o2)\n",
        "\n",
        "print('input 1:',string1)\n",
        "print('input 2:',string2)\n",
        "print('uncommon words from two strings: ', end='')\n",
        "for i in final_list:\n",
        "  print(f\"'{i}'\",end=\", \")"
      ],
      "metadata": {
        "colab": {
          "base_uri": "https://localhost:8080/"
        },
        "id": "BsdyAuBhrV5_",
        "outputId": "08b52ace-5caf-4e9e-e973-ce75a83dbd5d"
      },
      "execution_count": 426,
      "outputs": [
        {
          "output_type": "stream",
          "name": "stdout",
          "text": [
            "input 1: Python program to find uncommon words from two strings\n",
            "input 2: Python program to split and join a string\n",
            "uncommon words from two strings: 'words', 'find', 'two', 'string', 'a', 'strings', 'from', 'join', 'split', 'and', 'uncommon', "
          ]
        }
      ]
    },
    {
      "cell_type": "markdown",
      "source": [
        "##### 38. Python program to swap commas and dots in string."
      ],
      "metadata": {
        "id": "2MNwTGICrzU9"
      }
    },
    {
      "cell_type": "code",
      "source": [
        "input = \"arun@gamil.com,shiva@gmail.com\"\n",
        "final = input.replace('.','^')\n",
        "final = final.replace(',','.')\n",
        "final = final.replace('^',',')\n",
        "print(final)"
      ],
      "metadata": {
        "colab": {
          "base_uri": "https://localhost:8080/"
        },
        "id": "FEyEaSWAuDkO",
        "outputId": "b977da22-d4cc-4138-e9fc-0876a97da87a"
      },
      "execution_count": 445,
      "outputs": [
        {
          "output_type": "stream",
          "name": "stdout",
          "text": [
            "arun@gamil,com.shiva@gmail,com\n"
          ]
        }
      ]
    },
    {
      "cell_type": "markdown",
      "source": [
        "##### 39. Python program to get permutation of a given string without using inbuilt function."
      ],
      "metadata": {
        "id": "Oqeh9dmkv9Co"
      }
    },
    {
      "cell_type": "code",
      "source": [
        "def fact(n):\n",
        "  if n==0 or n==1:\n",
        "    return 1\n",
        "  else:\n",
        "    return (n*fact(n-1))\n",
        "\n",
        "def perm(n,r):\n",
        "  return fact(n)/fact(n-r)\n",
        "\n",
        "print(f'permutation(10,3): {perm(10,3)}')"
      ],
      "metadata": {
        "colab": {
          "base_uri": "https://localhost:8080/"
        },
        "id": "k9yDjd5nyxIQ",
        "outputId": "e8a64be2-9e55-4738-dfaf-46fbad2edd56"
      },
      "execution_count": 450,
      "outputs": [
        {
          "output_type": "stream",
          "name": "stdout",
          "text": [
            "permutation(10,3): 720.0\n"
          ]
        }
      ]
    },
    {
      "cell_type": "code",
      "source": [],
      "metadata": {
        "id": "q68qM2Db6T89"
      },
      "execution_count": null,
      "outputs": []
    }
  ]
}